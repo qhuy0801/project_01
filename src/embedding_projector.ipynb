{
 "cells": [
  {
   "cell_type": "code",
   "execution_count": 1,
   "metadata": {
    "collapsed": true
   },
   "outputs": [],
   "source": [
    "import CONST\n",
    "import pandas as pd\n",
    "import os\n",
    "import torch\n",
    "import csv\n",
    "import glob\n",
    "import numpy as np\n",
    "from sklearn.decomposition import PCA\n",
    "from PIL import Image\n",
    "from torch.utils.data import Dataset, DataLoader"
   ]
  },
  {
   "cell_type": "code",
   "execution_count": 2,
   "outputs": [],
   "source": [
    "# Load all embeddings\n",
    "tensors = []\n",
    "for filename in os.listdir(CONST.PROCESSED_EMBEDDING_DIR):\n",
    "    if filename.endswith(\".pt\"):  # Assuming the tensors have a .pt extension\n",
    "        tensor_path = os.path.join(CONST.PROCESSED_EMBEDDING_DIR, filename)\n",
    "        tensor = torch.load(tensor_path)\n",
    "        tensors.append(tensor)\n",
    "\n",
    "# Stack the tensors into a 2D tensor\n",
    "tensor_stack = torch.stack(tensors)\n",
    "\n",
    "# Perform PCA to reduce to 2 dimensions\n",
    "pca = PCA(n_components=3)\n",
    "pca_result = pca.fit_transform(tensor_stack)"
   ],
   "metadata": {
    "collapsed": false
   }
  },
  {
   "cell_type": "code",
   "execution_count": 8,
   "outputs": [],
   "source": [
    "# Create a dataset class\n",
    "class GeneratedData(Dataset):\n",
    "    def __init__(self):\n",
    "        self.data = []\n",
    "\n",
    "        self.data = [\n",
    "            *self.data,\n",
    "            *glob.glob(f\"{CONST.FINAL_GENERATION_OUTPUT}*.jpeg\"),\n",
    "            *glob.glob(f\"{CONST.FINAL_GENERATION_OUTPUT}*.JPG\"),\n",
    "            *glob.glob(f\"{CONST.FINAL_GENERATION_OUTPUT}*.jpg\"),\n",
    "            *glob.glob(f\"{CONST.FINAL_GENERATION_OUTPUT}*.png\"),\n",
    "        ]\n",
    "\n",
    "        # Read the annotation file\n",
    "        self.annotation = pd.read_csv(\n",
    "            CONST.ANNOTATION_PROCESSED_PATH, dtype={CONST.WOUND_RULER: str}\n",
    "        )\n",
    "\n",
    "    def __getitem__(self, index):\n",
    "        # File name\n",
    "        file_name = os.path.splitext(os.path.basename(self.data[index]))[0]\n",
    "\n",
    "        # Textual embeddings (annotations)\n",
    "        row = self.annotation[\n",
    "            self.annotation[CONST.FILE_NAME].str.contains(file_name, regex=False)\n",
    "        ]\n",
    "        textual_embedding = \" \".join(\n",
    "            [\n",
    "                str(row[CONST.WOUND_RULER].values),\n",
    "                str(row[CONST.WOUND_TYPE].values),\n",
    "                str(row[CONST.WOUND_BED].values),\n",
    "                str(row[CONST.WOUND_DEPTH].values),\n",
    "                str(row[CONST.WOUND_LOCATION].values),\n",
    "            ]\n",
    "        )\n",
    "\n",
    "        # Image\n",
    "        image = self.data[index]\n",
    "\n",
    "        # Numeric embeddings\n",
    "        numeric_embedding = glob.glob(f\"{CONST.PROCESSED_EMBEDDING_DIR}{file_name}*\")[0]\n",
    "        numeric_embedding = torch.load(numeric_embedding)\n",
    "\n",
    "        return image, textual_embedding, numeric_embedding\n",
    "\n",
    "    def __len__(self):\n",
    "        return len(self.data)\n",
    "\n",
    "generated_loader = DataLoader(dataset=GeneratedData(), batch_size=1)"
   ],
   "metadata": {
    "collapsed": false
   }
  },
  {
   "cell_type": "code",
   "execution_count": 4,
   "outputs": [],
   "source": [
    "sprite_edge_count = int(np.ceil(np.sqrt(len(generated_loader))))\n",
    "w_sprite = 100 * sprite_edge_count\n",
    "h_sprite = 100 * sprite_edge_count\n",
    "\n",
    "sprite = Image.new(mode=\"RGBA\", size=(w_sprite, h_sprite), color=(0, 0, 0, 0))\n",
    "x_offset = 0\n",
    "y_offset = 0"
   ],
   "metadata": {
    "collapsed": false
   }
  },
  {
   "cell_type": "code",
   "execution_count": 11,
   "outputs": [
    {
     "name": "stdout",
     "output_type": "stream",
     "text": [
      "writing complete\n"
     ]
    }
   ],
   "source": [
    "for idx, (image, _textual_embedding, _numeric_embedding) in enumerate(generated_loader):\n",
    "\n",
    "    # Process the sprite\n",
    "    image = Image.open(image[0]).resize((100, 100))\n",
    "    if x_offset + image.width > w_sprite:\n",
    "        x_offset = 0\n",
    "        y_offset += image.height\n",
    "    sprite.paste(image, (x_offset, y_offset))\n",
    "    x_offset += image.width\n",
    "\n",
    "    with open(CONST.FINAL_METADATA, \"a\") as text_emb:\n",
    "        text_emb.write(f\"{_textual_embedding[0]}\\n\")\n",
    "\n",
    "    with open(CONST.FINAL_EMBEDDINGS, \"a\") as num_emb:\n",
    "        csv_writer = csv.writer(num_emb, delimiter=\"\\t\")\n",
    "        csv_writer.writerow(\n",
    "            _numeric_embedding[0].squeeze().numpy()\n",
    "        )\n",
    "\n",
    "print(\"writing complete\")\n",
    "sprite.convert(\"RGB\").save(CONST.FINAL_IMAGE_SPRITE, transparency=0)"
   ],
   "metadata": {
    "collapsed": false
   }
  },
  {
   "cell_type": "code",
   "execution_count": 10,
   "outputs": [
    {
     "name": "stdout",
     "output_type": "stream",
     "text": [
      "[-5.70845696  1.81629995  5.26043689]\n"
     ]
    }
   ],
   "source": [
    "print(\n",
    "    pca.transform(\n",
    "        torch.load(\n",
    "            \"../resources/processed/embeddings/002-4228Z-2018-10-09-9a.pt\"\n",
    "        ).unsqueeze(0)\n",
    "    ).flatten()\n",
    ")"
   ],
   "metadata": {
    "collapsed": false
   }
  },
  {
   "cell_type": "code",
   "execution_count": null,
   "outputs": [],
   "source": [
    "for idx, row in self.annotation.iterrows():\n",
    "    # Get file base name\n",
    "    file_name, _ = os.path.splitext(row[CONST.FILE_NAME])\n",
    "\n",
    "    # Process texual embeddings\n",
    "    textual_embedding = \" \".join(\n",
    "        [\n",
    "            \"RULER:\",\n",
    "            str(row[CONST.WOUND_RULER]),\n",
    "            \"TYPE:\",\n",
    "            str(row[CONST.WOUND_TYPE]),\n",
    "            \"WOUND_BED:\",\n",
    "            str(row[CONST.WOUND_BED]),\n",
    "            \"WOUND_DEPTH:\",\n",
    "            str(row[CONST.WOUND_DEPTH]),\n",
    "            \"LOCATION:\",\n",
    "            str(row[CONST.WOUND_LOCATION]),\n",
    "        ]\n",
    "    )\n",
    "\n",
    "    # Save embeddings\n",
    "    embedding = torch.load(\n",
    "        os.path.join(CONST.PROCESSED_EMBEDDING_DIR, file_name + \".pt\")\n",
    "    ).unsqueeze(0)\n",
    "    embedding = pca.transform(embedding).flatten()\n",
    "\n",
    "    # Save images\n",
    "    image = Image.open(os.path.join(CONST.FINAL_GENERATION_OUTPUT, file_name + \".png\"))\n",
    "    self.data.append([textual_embedding, embedding, image])"
   ],
   "metadata": {
    "collapsed": false
   }
  }
 ],
 "metadata": {
  "kernelspec": {
   "display_name": "Python 3",
   "language": "python",
   "name": "python3"
  },
  "language_info": {
   "codemirror_mode": {
    "name": "ipython",
    "version": 2
   },
   "file_extension": ".py",
   "mimetype": "text/x-python",
   "name": "python",
   "nbconvert_exporter": "python",
   "pygments_lexer": "ipython2",
   "version": "2.7.6"
  }
 },
 "nbformat": 4,
 "nbformat_minor": 0
}
