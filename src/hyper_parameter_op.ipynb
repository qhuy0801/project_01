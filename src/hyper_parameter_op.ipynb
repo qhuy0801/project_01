{
 "cells": [
  {
   "cell_type": "code",
   "execution_count": 4,
   "outputs": [],
   "source": [
    "import CONST\n",
    "import wandb\n",
    "from pprint import pprint\n",
    "\n",
    "from entities import WoundDataset\n",
    "from models.trainer.diffuser import Diffuser"
   ],
   "metadata": {
    "collapsed": false
   }
  },
  {
   "cell_type": "code",
   "execution_count": null,
   "metadata": {
    "collapsed": true
   },
   "outputs": [],
   "source": [
    "# Login wandb\n",
    "wandb_key = \"a8b5a7676a58d9b5b1e686fd9d349bc25f18d07c\"\n",
    "wand_logged = wandb.login(key=wandb_key)"
   ]
  },
  {
   "cell_type": "code",
   "execution_count": 5,
   "outputs": [
    {
     "name": "stdout",
     "output_type": "stream",
     "text": [
      "{'method': 'bayes',\n",
      " 'metric': {'goal': 'minimize', 'name': 'train_mse_loss'},\n",
      " 'parameters': {'attn_heads': {'values': [1, 2, 4]},\n",
      "                'learning_rate': {'distribution': 'uniform',\n",
      "                                  'max': 0.0003,\n",
      "                                  'min': 5e-05},\n",
      "                'noise_steps': {'values': [50, 100, 500, 1000]},\n",
      "                'variance_schedule_type': {'values': ['linear',\n",
      "                                                      'quadratic',\n",
      "                                                      'sigmoid',\n",
      "                                                      'cosine']}}}\n"
     ]
    }
   ],
   "source": [
    "# Define sweep configuration\n",
    "sweep_config = {\n",
    "    \"method\": \"bayes\",\n",
    "    \"metric\": {\n",
    "        \"name\": \"train_mse_loss\",\n",
    "        \"goal\": \"minimize\",\n",
    "    },\n",
    "    \"parameters\": {\n",
    "        \"learning_rate\": {\"distribution\": \"uniform\", \"min\": 5e-5, \"max\": 3e-4},\n",
    "        \"noise_steps\": {\"values\": [50, 100, 500, 1000]},\n",
    "        \"variance_schedule_type\": {\"values\": [\"linear\", \"quadratic\", \"sigmoid\", \"cosine\"]},\n",
    "        \"attn_heads\": {\"values\": [1, 2, 4]}\n",
    "    }\n",
    "}\n",
    "\n",
    "pprint(sweep_config)"
   ],
   "metadata": {
    "collapsed": false
   }
  },
  {
   "cell_type": "code",
   "execution_count": 6,
   "outputs": [
    {
     "name": "stdout",
     "output_type": "stream",
     "text": [
      "Create sweep with ID: s4cs0c7m\n",
      "Sweep URL: https://wandb.ai/qhuy0168/DDPM_hyper_tuning/sweeps/s4cs0c7m\n",
      "'s4cs0c7m'\n"
     ]
    }
   ],
   "source": [
    "# Initialise sweep controller on WandB server\n",
    "# After initialised, we do not need to run this again\n",
    "# sweep_id = wandb.sweep(sweep_config, project=\"DDPM_hyper_tuning\")\n",
    "# pprint(sweep_id)"
   ],
   "metadata": {
    "collapsed": false
   }
  },
  {
   "cell_type": "code",
   "execution_count": 8,
   "outputs": [],
   "source": [
    "# Define the agent\n",
    "# Run this on agent computers\n",
    "def train():\n",
    "    \"\"\"\n",
    "    Training trigger for hyper-parameter optimisation\n",
    "    :return: None\n",
    "    \"\"\"\n",
    "    # Init the run\n",
    "    run = wandb.init(project=\"DDPM_hyper_tuning\")\n",
    "\n",
    "    # Get the configuration for instance\n",
    "    config = wandb.config\n",
    "\n",
    "    # Similar approach to full train\n",
    "    # The data\n",
    "    dataset = WoundDataset(\n",
    "        image_dir=CONST.PROCESSED_IMAGES_DIR,\n",
    "        segment_dir=CONST.PROCESSED_SEGMENT_DIR,\n",
    "        target_tensor_size=CONST.DIFFUSER_SETTINGS.INPUT_SIZE,\n",
    "        embedding_dir=CONST.PROCESSED_EMBEDDING_DIR\n",
    "    )\n",
    "\n",
    "    diffuser = Diffuser(\n",
    "        dataset=dataset,\n",
    "        batch_size=8,\n",
    "        num_workers=2,\n",
    "        epochs=1000,\n",
    "        run_name=CONST.DIFFUSER_SETTINGS.RUN_NAME,\n",
    "        output_dir=CONST.DIFFUSER_SETTINGS.OUTPUT_DIR,\n",
    "        max_lr=config.learning_rate,\n",
    "        noise_steps=config.noise_steps,\n",
    "        variance_schedule_type=config.variance_schedule_type,\n",
    "        attn_heads=config.attn_heads,\n",
    "        wandb_run=run,\n",
    "    )\n",
    "\n",
    "    diffuser.fit()"
   ],
   "metadata": {
    "collapsed": false
   }
  },
  {
   "cell_type": "code",
   "execution_count": null,
   "outputs": [],
   "source": [
    "# Start the sweep agent\n",
    "wandb.agent(\"s4cs0c7m\", function=train, count=10)"
   ],
   "metadata": {
    "collapsed": false
   }
  }
 ],
 "metadata": {
  "kernelspec": {
   "display_name": "Python 3",
   "language": "python",
   "name": "python3"
  },
  "language_info": {
   "codemirror_mode": {
    "name": "ipython",
    "version": 2
   },
   "file_extension": ".py",
   "mimetype": "text/x-python",
   "name": "python",
   "nbconvert_exporter": "python",
   "pygments_lexer": "ipython2",
   "version": "2.7.6"
  }
 },
 "nbformat": 4,
 "nbformat_minor": 0
}
