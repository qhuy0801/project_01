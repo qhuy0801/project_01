{
 "cells": [
  {
   "cell_type": "code",
   "execution_count": 1,
   "outputs": [
    {
     "name": "stdout",
     "output_type": "stream",
     "text": [
      "The autoreload extension is already loaded. To reload it, use:\n",
      "  %reload_ext autoreload\n"
     ]
    }
   ],
   "source": [
    "%load_ext autoreload\n",
    "%autoreload 2"
   ],
   "metadata": {
    "collapsed": false
   }
  },
  {
   "cell_type": "code",
   "execution_count": 2,
   "outputs": [],
   "source": [
    "import os\n",
    "import pandas as pd\n",
    "import numpy as np\n",
    "from PIL import Image\n",
    "import CONST\n",
    "from utils import (\n",
    "    filter_empty_columns,\n",
    "    num_duplicated_values,\n",
    "    load_onnx,\n",
    "    init_session_onnx,\n",
    "    find_path,\n",
    "    load_image,\n",
    "    forward_transform,\n",
    "    get_segmentation,\n",
    "    resize_segmentation,\n",
    "    remove_image_extension,\n",
    ")"
   ],
   "metadata": {
    "collapsed": false
   }
  },
  {
   "cell_type": "markdown",
   "source": [
    "# Annotation cleaning"
   ],
   "metadata": {
    "collapsed": false
   }
  },
  {
   "cell_type": "code",
   "execution_count": 3,
   "outputs": [
    {
     "data": {
      "text/plain": "      Unnamed: 0  WoundDetail.Id  ImageDetail.Id  \\\n0              0               7               9   \n1              1               8              10   \n2              2               9              12   \n3              3              10              15   \n4              4              11              18   \n...          ...             ...             ...   \n2718         156             167             161   \n2719         157             168             162   \n2720         158             169             163   \n2721         159             170             164   \n2722         160             171             165   \n\n             ImageDetail.ImageFilename  \\\n0     VWI11962 2021-05-05-10-26-05.jpg   \n1     VWI11961 2021-05-05-07-51-40.jpg   \n2     VWI11959 2021-05-04-12-14-56.jpg   \n3     VWI11953 2021-05-04-08-17-12.jpg   \n4     VWI11950 2021-05-03-12-59-56.jpg   \n...                                ...   \n2718      027 V5_06.02.2020 HEALED.JPG   \n2719             WA028_22.07.20_V4.JPG   \n2720             WA028_29.07.20_V5.JPG   \n2721             WA029_07.08.20_V4.JPG   \n2722             WA029_14.08.20_V5.JPG   \n\n                                     ImageDetail.Folder ImageDetail.PatientId  \\\n0     C:\\Users\\night\\Desktop\\TTSH\\Research\\AITIS\\VWI...              VWI11962   \n1     C:\\Users\\night\\Desktop\\TTSH\\Research\\AITIS\\VWI...              VWI11961   \n2     C:\\Users\\night\\Desktop\\TTSH\\Research\\AITIS\\VWI...              VWI11959   \n3     C:\\Users\\night\\Desktop\\TTSH\\Research\\AITIS\\VWI...              VWI11953   \n4     C:\\Users\\night\\Desktop\\TTSH\\Research\\AITIS\\VWI...              VWI11950   \n...                                                 ...                   ...   \n2718   C:\\Users\\chanx\\Desktop\\J\\Meta-data\\KM\\Images\\027                    27   \n2719   C:\\Users\\chanx\\Desktop\\J\\Meta-data\\KM\\Images\\028              WA028_22   \n2720   C:\\Users\\chanx\\Desktop\\J\\Meta-data\\KM\\Images\\028              WA028_29   \n2721   C:\\Users\\chanx\\Desktop\\J\\Meta-data\\KM\\Images\\029              WA029_07   \n2722   C:\\Users\\chanx\\Desktop\\J\\Meta-data\\KM\\Images\\029              WA029_14   \n\n     ImageDetail.LastAmended ImageDetail.AmendedBy  ImageDetail.ReviewedBy  \\\n0            12/7/2021 14:31            Audrey Tan                     NaN   \n1            12/7/2021 17:03            Audrey Tan                     NaN   \n2             14/7/2021 0:53            Audrey Tan                     NaN   \n3             14/7/2021 1:02            Audrey Tan                     NaN   \n4             14/7/2021 9:02            Audrey Tan                     NaN   \n...                      ...                   ...                     ...   \n2718        16/11/2021 13:13                   NaN                     NaN   \n2719        16/11/2021 13:13                   NaN                     NaN   \n2720        16/11/2021 13:14                   NaN                     NaN   \n2721        26/10/2021 12:23                   NaN                     NaN   \n2722        26/10/2021 12:29                   NaN                     NaN   \n\n     ImageDetail.Status  ... WoundDetail.AreaOfInterestHeight Unnamed: 38  \\\n0        ReadyForReview  ...                             1047         NaN   \n1        ReadyForReview  ...                              840         NaN   \n2        ReadyForReview  ...                              685         NaN   \n3        ReadyForReview  ...                              708         NaN   \n4        ReadyForReview  ...                             1600         NaN   \n...                 ...  ...                              ...         ...   \n2718     ReadyForReview  ...                             1190         NaN   \n2719     ReadyForReview  ...                              783         NaN   \n2720     ReadyForReview  ...                              795         NaN   \n2721     ReadyForReview  ...                             1298         NaN   \n2722     ReadyForReview  ...                              822         NaN   \n\n                                             image_path  \\\n0     230921 export_a\\Raw images\\VWI11962 2021-05-05...   \n1     230921 export_a\\Raw images\\VWI11961 2021-05-05...   \n2     230921 export_a\\Raw images\\VWI11959 2021-05-04...   \n3     230921 export_a\\Raw images\\VWI11953 2021-05-04...   \n4     230921 export_a\\Raw images\\VWI11950 2021-05-03...   \n...                                                 ...   \n2718  Meta KM 014 to 029\\Raw images\\027\\027 V5_06.02...   \n2719  Meta KM 014 to 029\\Raw images\\028\\WA028_22.07....   \n2720  Meta KM 014 to 029\\Raw images\\028\\WA028_29.07....   \n2721  Meta KM 014 to 029\\Raw images\\029\\WA029_07.08....   \n2722  Meta KM 014 to 029\\Raw images\\029\\WA029_14.08....   \n\n                                           overlay_path              folder  \\\n0     230921 export_a\\Overlays\\Ov_VWI11962 2021-05-0...     230921 export_a   \n1     230921 export_a\\Overlays\\Ov_VWI11961 2021-05-0...     230921 export_a   \n2     230921 export_a\\Overlays\\Ov_VWI11959 2021-05-0...     230921 export_a   \n3     230921 export_a\\Overlays\\Ov_VWI11953 2021-05-0...     230921 export_a   \n4     230921 export_a\\Overlays\\Ov_VWI11950 2021-05-0...     230921 export_a   \n...                                                 ...                 ...   \n2718  Meta KM 014 to 029\\Overlays\\Ov_027 V5_06.02.20...  Meta KM 014 to 029   \n2719  Meta KM 014 to 029\\Overlays\\Ov_WA028_22.07.20_...  Meta KM 014 to 029   \n2720  Meta KM 014 to 029\\Overlays\\Ov_WA028_29.07.20_...  Meta KM 014 to 029   \n2721  Meta KM 014 to 029\\Overlays\\Ov_WA029_07.08.20_...  Meta KM 014 to 029   \n2722  Meta KM 014 to 029\\Overlays\\Ov_WA029_14.08.20_...  Meta KM 014 to 029   \n\n      ImageDetail.MachineName  ImageDetail.PriorMinorAmputation  \\\n0                         NaN                               NaN   \n1                         NaN                               NaN   \n2                         NaN                               NaN   \n3                         NaN                               NaN   \n4                         NaN                               NaN   \n...                       ...                               ...   \n2718                      NaN                               NaN   \n2719                      NaN                               NaN   \n2720                      NaN                               NaN   \n2721                      NaN                               NaN   \n2722                      NaN                               NaN   \n\n      WoundDetail.WoundBedUnfilled WoundDetail.Unfilled  Unnamed: 25  \n0                              NaN                  NaN          NaN  \n1                              NaN                  NaN          NaN  \n2                              NaN                  NaN          NaN  \n3                              NaN                  NaN          NaN  \n4                              NaN                  NaN          NaN  \n...                            ...                  ...          ...  \n2718                           NaN                  NaN          NaN  \n2719                           NaN                  NaN          NaN  \n2720                           NaN                  NaN          NaN  \n2721                           NaN                  NaN          NaN  \n2722                           NaN                  NaN          NaN  \n\n[2723 rows x 48 columns]",
      "text/html": "<div>\n<style scoped>\n    .dataframe tbody tr th:only-of-type {\n        vertical-align: middle;\n    }\n\n    .dataframe tbody tr th {\n        vertical-align: top;\n    }\n\n    .dataframe thead th {\n        text-align: right;\n    }\n</style>\n<table border=\"1\" class=\"dataframe\">\n  <thead>\n    <tr style=\"text-align: right;\">\n      <th></th>\n      <th>Unnamed: 0</th>\n      <th>WoundDetail.Id</th>\n      <th>ImageDetail.Id</th>\n      <th>ImageDetail.ImageFilename</th>\n      <th>ImageDetail.Folder</th>\n      <th>ImageDetail.PatientId</th>\n      <th>ImageDetail.LastAmended</th>\n      <th>ImageDetail.AmendedBy</th>\n      <th>ImageDetail.ReviewedBy</th>\n      <th>ImageDetail.Status</th>\n      <th>...</th>\n      <th>WoundDetail.AreaOfInterestHeight</th>\n      <th>Unnamed: 38</th>\n      <th>image_path</th>\n      <th>overlay_path</th>\n      <th>folder</th>\n      <th>ImageDetail.MachineName</th>\n      <th>ImageDetail.PriorMinorAmputation</th>\n      <th>WoundDetail.WoundBedUnfilled</th>\n      <th>WoundDetail.Unfilled</th>\n      <th>Unnamed: 25</th>\n    </tr>\n  </thead>\n  <tbody>\n    <tr>\n      <th>0</th>\n      <td>0</td>\n      <td>7</td>\n      <td>9</td>\n      <td>VWI11962 2021-05-05-10-26-05.jpg</td>\n      <td>C:\\Users\\night\\Desktop\\TTSH\\Research\\AITIS\\VWI...</td>\n      <td>VWI11962</td>\n      <td>12/7/2021 14:31</td>\n      <td>Audrey Tan</td>\n      <td>NaN</td>\n      <td>ReadyForReview</td>\n      <td>...</td>\n      <td>1047</td>\n      <td>NaN</td>\n      <td>230921 export_a\\Raw images\\VWI11962 2021-05-05...</td>\n      <td>230921 export_a\\Overlays\\Ov_VWI11962 2021-05-0...</td>\n      <td>230921 export_a</td>\n      <td>NaN</td>\n      <td>NaN</td>\n      <td>NaN</td>\n      <td>NaN</td>\n      <td>NaN</td>\n    </tr>\n    <tr>\n      <th>1</th>\n      <td>1</td>\n      <td>8</td>\n      <td>10</td>\n      <td>VWI11961 2021-05-05-07-51-40.jpg</td>\n      <td>C:\\Users\\night\\Desktop\\TTSH\\Research\\AITIS\\VWI...</td>\n      <td>VWI11961</td>\n      <td>12/7/2021 17:03</td>\n      <td>Audrey Tan</td>\n      <td>NaN</td>\n      <td>ReadyForReview</td>\n      <td>...</td>\n      <td>840</td>\n      <td>NaN</td>\n      <td>230921 export_a\\Raw images\\VWI11961 2021-05-05...</td>\n      <td>230921 export_a\\Overlays\\Ov_VWI11961 2021-05-0...</td>\n      <td>230921 export_a</td>\n      <td>NaN</td>\n      <td>NaN</td>\n      <td>NaN</td>\n      <td>NaN</td>\n      <td>NaN</td>\n    </tr>\n    <tr>\n      <th>2</th>\n      <td>2</td>\n      <td>9</td>\n      <td>12</td>\n      <td>VWI11959 2021-05-04-12-14-56.jpg</td>\n      <td>C:\\Users\\night\\Desktop\\TTSH\\Research\\AITIS\\VWI...</td>\n      <td>VWI11959</td>\n      <td>14/7/2021 0:53</td>\n      <td>Audrey Tan</td>\n      <td>NaN</td>\n      <td>ReadyForReview</td>\n      <td>...</td>\n      <td>685</td>\n      <td>NaN</td>\n      <td>230921 export_a\\Raw images\\VWI11959 2021-05-04...</td>\n      <td>230921 export_a\\Overlays\\Ov_VWI11959 2021-05-0...</td>\n      <td>230921 export_a</td>\n      <td>NaN</td>\n      <td>NaN</td>\n      <td>NaN</td>\n      <td>NaN</td>\n      <td>NaN</td>\n    </tr>\n    <tr>\n      <th>3</th>\n      <td>3</td>\n      <td>10</td>\n      <td>15</td>\n      <td>VWI11953 2021-05-04-08-17-12.jpg</td>\n      <td>C:\\Users\\night\\Desktop\\TTSH\\Research\\AITIS\\VWI...</td>\n      <td>VWI11953</td>\n      <td>14/7/2021 1:02</td>\n      <td>Audrey Tan</td>\n      <td>NaN</td>\n      <td>ReadyForReview</td>\n      <td>...</td>\n      <td>708</td>\n      <td>NaN</td>\n      <td>230921 export_a\\Raw images\\VWI11953 2021-05-04...</td>\n      <td>230921 export_a\\Overlays\\Ov_VWI11953 2021-05-0...</td>\n      <td>230921 export_a</td>\n      <td>NaN</td>\n      <td>NaN</td>\n      <td>NaN</td>\n      <td>NaN</td>\n      <td>NaN</td>\n    </tr>\n    <tr>\n      <th>4</th>\n      <td>4</td>\n      <td>11</td>\n      <td>18</td>\n      <td>VWI11950 2021-05-03-12-59-56.jpg</td>\n      <td>C:\\Users\\night\\Desktop\\TTSH\\Research\\AITIS\\VWI...</td>\n      <td>VWI11950</td>\n      <td>14/7/2021 9:02</td>\n      <td>Audrey Tan</td>\n      <td>NaN</td>\n      <td>ReadyForReview</td>\n      <td>...</td>\n      <td>1600</td>\n      <td>NaN</td>\n      <td>230921 export_a\\Raw images\\VWI11950 2021-05-03...</td>\n      <td>230921 export_a\\Overlays\\Ov_VWI11950 2021-05-0...</td>\n      <td>230921 export_a</td>\n      <td>NaN</td>\n      <td>NaN</td>\n      <td>NaN</td>\n      <td>NaN</td>\n      <td>NaN</td>\n    </tr>\n    <tr>\n      <th>...</th>\n      <td>...</td>\n      <td>...</td>\n      <td>...</td>\n      <td>...</td>\n      <td>...</td>\n      <td>...</td>\n      <td>...</td>\n      <td>...</td>\n      <td>...</td>\n      <td>...</td>\n      <td>...</td>\n      <td>...</td>\n      <td>...</td>\n      <td>...</td>\n      <td>...</td>\n      <td>...</td>\n      <td>...</td>\n      <td>...</td>\n      <td>...</td>\n      <td>...</td>\n      <td>...</td>\n    </tr>\n    <tr>\n      <th>2718</th>\n      <td>156</td>\n      <td>167</td>\n      <td>161</td>\n      <td>027 V5_06.02.2020 HEALED.JPG</td>\n      <td>C:\\Users\\chanx\\Desktop\\J\\Meta-data\\KM\\Images\\027</td>\n      <td>27</td>\n      <td>16/11/2021 13:13</td>\n      <td>NaN</td>\n      <td>NaN</td>\n      <td>ReadyForReview</td>\n      <td>...</td>\n      <td>1190</td>\n      <td>NaN</td>\n      <td>Meta KM 014 to 029\\Raw images\\027\\027 V5_06.02...</td>\n      <td>Meta KM 014 to 029\\Overlays\\Ov_027 V5_06.02.20...</td>\n      <td>Meta KM 014 to 029</td>\n      <td>NaN</td>\n      <td>NaN</td>\n      <td>NaN</td>\n      <td>NaN</td>\n      <td>NaN</td>\n    </tr>\n    <tr>\n      <th>2719</th>\n      <td>157</td>\n      <td>168</td>\n      <td>162</td>\n      <td>WA028_22.07.20_V4.JPG</td>\n      <td>C:\\Users\\chanx\\Desktop\\J\\Meta-data\\KM\\Images\\028</td>\n      <td>WA028_22</td>\n      <td>16/11/2021 13:13</td>\n      <td>NaN</td>\n      <td>NaN</td>\n      <td>ReadyForReview</td>\n      <td>...</td>\n      <td>783</td>\n      <td>NaN</td>\n      <td>Meta KM 014 to 029\\Raw images\\028\\WA028_22.07....</td>\n      <td>Meta KM 014 to 029\\Overlays\\Ov_WA028_22.07.20_...</td>\n      <td>Meta KM 014 to 029</td>\n      <td>NaN</td>\n      <td>NaN</td>\n      <td>NaN</td>\n      <td>NaN</td>\n      <td>NaN</td>\n    </tr>\n    <tr>\n      <th>2720</th>\n      <td>158</td>\n      <td>169</td>\n      <td>163</td>\n      <td>WA028_29.07.20_V5.JPG</td>\n      <td>C:\\Users\\chanx\\Desktop\\J\\Meta-data\\KM\\Images\\028</td>\n      <td>WA028_29</td>\n      <td>16/11/2021 13:14</td>\n      <td>NaN</td>\n      <td>NaN</td>\n      <td>ReadyForReview</td>\n      <td>...</td>\n      <td>795</td>\n      <td>NaN</td>\n      <td>Meta KM 014 to 029\\Raw images\\028\\WA028_29.07....</td>\n      <td>Meta KM 014 to 029\\Overlays\\Ov_WA028_29.07.20_...</td>\n      <td>Meta KM 014 to 029</td>\n      <td>NaN</td>\n      <td>NaN</td>\n      <td>NaN</td>\n      <td>NaN</td>\n      <td>NaN</td>\n    </tr>\n    <tr>\n      <th>2721</th>\n      <td>159</td>\n      <td>170</td>\n      <td>164</td>\n      <td>WA029_07.08.20_V4.JPG</td>\n      <td>C:\\Users\\chanx\\Desktop\\J\\Meta-data\\KM\\Images\\029</td>\n      <td>WA029_07</td>\n      <td>26/10/2021 12:23</td>\n      <td>NaN</td>\n      <td>NaN</td>\n      <td>ReadyForReview</td>\n      <td>...</td>\n      <td>1298</td>\n      <td>NaN</td>\n      <td>Meta KM 014 to 029\\Raw images\\029\\WA029_07.08....</td>\n      <td>Meta KM 014 to 029\\Overlays\\Ov_WA029_07.08.20_...</td>\n      <td>Meta KM 014 to 029</td>\n      <td>NaN</td>\n      <td>NaN</td>\n      <td>NaN</td>\n      <td>NaN</td>\n      <td>NaN</td>\n    </tr>\n    <tr>\n      <th>2722</th>\n      <td>160</td>\n      <td>171</td>\n      <td>165</td>\n      <td>WA029_14.08.20_V5.JPG</td>\n      <td>C:\\Users\\chanx\\Desktop\\J\\Meta-data\\KM\\Images\\029</td>\n      <td>WA029_14</td>\n      <td>26/10/2021 12:29</td>\n      <td>NaN</td>\n      <td>NaN</td>\n      <td>ReadyForReview</td>\n      <td>...</td>\n      <td>822</td>\n      <td>NaN</td>\n      <td>Meta KM 014 to 029\\Raw images\\029\\WA029_14.08....</td>\n      <td>Meta KM 014 to 029\\Overlays\\Ov_WA029_14.08.20_...</td>\n      <td>Meta KM 014 to 029</td>\n      <td>NaN</td>\n      <td>NaN</td>\n      <td>NaN</td>\n      <td>NaN</td>\n      <td>NaN</td>\n    </tr>\n  </tbody>\n</table>\n<p>2723 rows × 48 columns</p>\n</div>"
     },
     "execution_count": 3,
     "metadata": {},
     "output_type": "execute_result"
    }
   ],
   "source": [
    "# Check annotation dataframe\n",
    "df = pd.read_csv(CONST.ANNOTATION_PATH)\n",
    "df"
   ],
   "metadata": {
    "collapsed": false
   }
  },
  {
   "cell_type": "code",
   "execution_count": 4,
   "outputs": [],
   "source": [
    "# Filter the data into only selected column\n",
    "df = df.filter(items=CONST.SELECT_COLUMN)\n",
    "\n",
    "# If the wound type and wound location is empty, we will drop the data\n",
    "df = filter_empty_columns(df, CONST.WOUND_TYPE)\n",
    "df = filter_empty_columns(df, CONST.WOUND_LOCATION)\n",
    "\n",
    "# There are many duplications on the file name that we need to drop them\n",
    "df = df.drop_duplicates()\n",
    "df = df.drop_duplicates(subset=[CONST.FILE_NAME], keep=\"first\")"
   ],
   "metadata": {
    "collapsed": false
   }
  },
  {
   "cell_type": "code",
   "execution_count": 5,
   "outputs": [
    {
     "name": "stdout",
     "output_type": "stream",
     "text": [
      "Number of overlapped file: 0\n"
     ]
    }
   ],
   "source": [
    "# Re-check to see if there is still any duplicated file name\n",
    "print(f\"Number of overlapped file: {num_duplicated_values(df, CONST.FILE_NAME)}\")"
   ],
   "metadata": {
    "collapsed": false
   }
  },
  {
   "cell_type": "code",
   "execution_count": 6,
   "outputs": [
    {
     "data": {
      "text/plain": "             ImageDetail.ImageFilename ImageDetail.hasRuler  \\\n0     VWI11962 2021-05-05-10-26-05.jpg                False   \n1     VWI11961 2021-05-05-07-51-40.jpg                False   \n2     VWI11959 2021-05-04-12-14-56.jpg                False   \n3     VWI11953 2021-05-04-08-17-12.jpg                False   \n4     VWI11950 2021-05-03-12-59-56.jpg                False   \n...                                ...                  ...   \n2716             027 V3_08.01.2020.JPG                 True   \n2717             027 V4_30.01.2020.JPG                 True   \n2718      027 V5_06.02.2020 HEALED.JPG                 True   \n2719             WA028_22.07.20_V4.JPG                False   \n2720             WA028_29.07.20_V5.JPG                 True   \n\n            ImageDetail.WoundType ImageDetail.OtherWoundBedCategory  \\\n0     Neuro-Ischemic Ulcers (NIU)                               NaN   \n1     Neuro-Ischemic Ulcers (NIU)               Exposed Tendon/Bone   \n2     Neuro-Ischemic Ulcers (NIU)                               NaN   \n3     Neuro-Ischemic Ulcers (NIU)                               NaN   \n4     Neuro-Ischemic Ulcers (NIU)                               NaN   \n...                           ...                               ...   \n2716       Venous Leg Ulcer (VLU)                               NaN   \n2717       Venous Leg Ulcer (VLU)                               NaN   \n2718       Venous Leg Ulcer (VLU)                               NaN   \n2719       Venous Leg Ulcer (VLU)                               NaN   \n2720       Venous Leg Ulcer (VLU)                               NaN   \n\n     WoundDetail.WoundDepth       WoundDetail.Location  \\\n0                      Deep   Left Dorsal Metatarsals;   \n1                      Deep   Right Plantar Calcaneus;   \n2                      Deep  Right Medial Metatarsals;   \n3                      Deep    Left Plantar Calcaneus;   \n4                      Deep   Left Dorsal Metatarsals;   \n...                     ...                        ...   \n2716        Epidermal Layer                 Left Shin;   \n2717        Epidermal Layer                 Left Shin;   \n2718        Epidermal Layer                 Left Shin;   \n2719        Epidermal Layer         Left Medial Ankle;   \n2720        Epidermal Layer         Left Medial Ankle;   \n\n      ImageDetail.AreaOfInterestX  ImageDetail.AreaOfInterestWidth  \\\n0                              55                             1145   \n1                              36                             1021   \n2                             107                              744   \n3                              22                              648   \n4                               0                             1200   \n...                           ...                              ...   \n2716                          944                              673   \n2717                         1357                              619   \n2718                         1048                              672   \n2719                          640                             1003   \n2720                          565                              980   \n\n      ImageDetail.AreaOfInterestY  ImageDetail.AreaOfInterestHeight  \n0                             300                              1047  \n1                             498                               840  \n2                             194                               685  \n3                             320                               708  \n4                               0                              1600  \n...                           ...                               ...  \n2716                           49                              1136  \n2717                           95                              1080  \n2718                           88                              1190  \n2719                          919                               783  \n2720                          297                               795  \n\n[2248 rows x 10 columns]",
      "text/html": "<div>\n<style scoped>\n    .dataframe tbody tr th:only-of-type {\n        vertical-align: middle;\n    }\n\n    .dataframe tbody tr th {\n        vertical-align: top;\n    }\n\n    .dataframe thead th {\n        text-align: right;\n    }\n</style>\n<table border=\"1\" class=\"dataframe\">\n  <thead>\n    <tr style=\"text-align: right;\">\n      <th></th>\n      <th>ImageDetail.ImageFilename</th>\n      <th>ImageDetail.hasRuler</th>\n      <th>ImageDetail.WoundType</th>\n      <th>ImageDetail.OtherWoundBedCategory</th>\n      <th>WoundDetail.WoundDepth</th>\n      <th>WoundDetail.Location</th>\n      <th>ImageDetail.AreaOfInterestX</th>\n      <th>ImageDetail.AreaOfInterestWidth</th>\n      <th>ImageDetail.AreaOfInterestY</th>\n      <th>ImageDetail.AreaOfInterestHeight</th>\n    </tr>\n  </thead>\n  <tbody>\n    <tr>\n      <th>0</th>\n      <td>VWI11962 2021-05-05-10-26-05.jpg</td>\n      <td>False</td>\n      <td>Neuro-Ischemic Ulcers (NIU)</td>\n      <td>NaN</td>\n      <td>Deep</td>\n      <td>Left Dorsal Metatarsals;</td>\n      <td>55</td>\n      <td>1145</td>\n      <td>300</td>\n      <td>1047</td>\n    </tr>\n    <tr>\n      <th>1</th>\n      <td>VWI11961 2021-05-05-07-51-40.jpg</td>\n      <td>False</td>\n      <td>Neuro-Ischemic Ulcers (NIU)</td>\n      <td>Exposed Tendon/Bone</td>\n      <td>Deep</td>\n      <td>Right Plantar Calcaneus;</td>\n      <td>36</td>\n      <td>1021</td>\n      <td>498</td>\n      <td>840</td>\n    </tr>\n    <tr>\n      <th>2</th>\n      <td>VWI11959 2021-05-04-12-14-56.jpg</td>\n      <td>False</td>\n      <td>Neuro-Ischemic Ulcers (NIU)</td>\n      <td>NaN</td>\n      <td>Deep</td>\n      <td>Right Medial Metatarsals;</td>\n      <td>107</td>\n      <td>744</td>\n      <td>194</td>\n      <td>685</td>\n    </tr>\n    <tr>\n      <th>3</th>\n      <td>VWI11953 2021-05-04-08-17-12.jpg</td>\n      <td>False</td>\n      <td>Neuro-Ischemic Ulcers (NIU)</td>\n      <td>NaN</td>\n      <td>Deep</td>\n      <td>Left Plantar Calcaneus;</td>\n      <td>22</td>\n      <td>648</td>\n      <td>320</td>\n      <td>708</td>\n    </tr>\n    <tr>\n      <th>4</th>\n      <td>VWI11950 2021-05-03-12-59-56.jpg</td>\n      <td>False</td>\n      <td>Neuro-Ischemic Ulcers (NIU)</td>\n      <td>NaN</td>\n      <td>Deep</td>\n      <td>Left Dorsal Metatarsals;</td>\n      <td>0</td>\n      <td>1200</td>\n      <td>0</td>\n      <td>1600</td>\n    </tr>\n    <tr>\n      <th>...</th>\n      <td>...</td>\n      <td>...</td>\n      <td>...</td>\n      <td>...</td>\n      <td>...</td>\n      <td>...</td>\n      <td>...</td>\n      <td>...</td>\n      <td>...</td>\n      <td>...</td>\n    </tr>\n    <tr>\n      <th>2716</th>\n      <td>027 V3_08.01.2020.JPG</td>\n      <td>True</td>\n      <td>Venous Leg Ulcer (VLU)</td>\n      <td>NaN</td>\n      <td>Epidermal Layer</td>\n      <td>Left Shin;</td>\n      <td>944</td>\n      <td>673</td>\n      <td>49</td>\n      <td>1136</td>\n    </tr>\n    <tr>\n      <th>2717</th>\n      <td>027 V4_30.01.2020.JPG</td>\n      <td>True</td>\n      <td>Venous Leg Ulcer (VLU)</td>\n      <td>NaN</td>\n      <td>Epidermal Layer</td>\n      <td>Left Shin;</td>\n      <td>1357</td>\n      <td>619</td>\n      <td>95</td>\n      <td>1080</td>\n    </tr>\n    <tr>\n      <th>2718</th>\n      <td>027 V5_06.02.2020 HEALED.JPG</td>\n      <td>True</td>\n      <td>Venous Leg Ulcer (VLU)</td>\n      <td>NaN</td>\n      <td>Epidermal Layer</td>\n      <td>Left Shin;</td>\n      <td>1048</td>\n      <td>672</td>\n      <td>88</td>\n      <td>1190</td>\n    </tr>\n    <tr>\n      <th>2719</th>\n      <td>WA028_22.07.20_V4.JPG</td>\n      <td>False</td>\n      <td>Venous Leg Ulcer (VLU)</td>\n      <td>NaN</td>\n      <td>Epidermal Layer</td>\n      <td>Left Medial Ankle;</td>\n      <td>640</td>\n      <td>1003</td>\n      <td>919</td>\n      <td>783</td>\n    </tr>\n    <tr>\n      <th>2720</th>\n      <td>WA028_29.07.20_V5.JPG</td>\n      <td>True</td>\n      <td>Venous Leg Ulcer (VLU)</td>\n      <td>NaN</td>\n      <td>Epidermal Layer</td>\n      <td>Left Medial Ankle;</td>\n      <td>565</td>\n      <td>980</td>\n      <td>297</td>\n      <td>795</td>\n    </tr>\n  </tbody>\n</table>\n<p>2248 rows × 10 columns</p>\n</div>"
     },
     "execution_count": 6,
     "metadata": {},
     "output_type": "execute_result"
    }
   ],
   "source": [
    "# Check the data again\n",
    "df"
   ],
   "metadata": {
    "collapsed": false
   }
  },
  {
   "cell_type": "markdown",
   "source": [
    "# Annotation preprocessing"
   ],
   "metadata": {
    "collapsed": false
   }
  },
  {
   "cell_type": "markdown",
   "source": [
    "As there are many data with duplicated semantics (for example: a same wound type in a same location but different shape will cause the model confuse of what to render at each pixel), therefore, we will need to tidy up the dataset so that:\n",
    "- Different sample will have different semantics\n",
    "- This will make the model less confusing while generating the images"
   ],
   "metadata": {
    "collapsed": false
   }
  },
  {
   "cell_type": "code",
   "execution_count": 7,
   "outputs": [
    {
     "data": {
      "text/plain": "             ImageDetail.ImageFilename ImageDetail.hasRuler  \\\n1     VWI11961 2021-05-05-07-51-40.jpg                False   \n5     VWI11949 2021-05-03-08-46-12.jpg                False   \n8     VWI11946 2021-05-03-08-08-53.jpg                False   \n14    VWI11802 2021-04-01-08-40-23.jpg                False   \n16    VWI11805 2021-04-01-09-39-22.jpg                False   \n...                                ...                  ...   \n2704               024 V5_13.04.20.JPG                 True   \n2713             026 V4_03.02.2020.JPG                 True   \n2718      027 V5_06.02.2020 HEALED.JPG                 True   \n2719             WA028_22.07.20_V4.JPG                False   \n2720             WA028_29.07.20_V5.JPG                 True   \n\n               ImageDetail.WoundType ImageDetail.OtherWoundBedCategory  \\\n1        Neuro-Ischemic Ulcers (NIU)               Exposed Tendon/Bone   \n5     Surgical Site Infections (SSI)                               NaN   \n8        Neuro-Ischemic Ulcers (NIU)                               NaN   \n14            Venous Leg Ulcer (VLU)                               NaN   \n16       Neuro-Ischemic Ulcers (NIU)                               NaN   \n...                              ...                               ...   \n2704          Venous Leg Ulcer (VLU)                               NaN   \n2713          Venous Leg Ulcer (VLU)                               NaN   \n2718          Venous Leg Ulcer (VLU)                               NaN   \n2719          Venous Leg Ulcer (VLU)                               NaN   \n2720          Venous Leg Ulcer (VLU)                               NaN   \n\n     WoundDetail.WoundDepth  \\\n1                      Deep   \n5                      Deep   \n8                      Deep   \n14             Dermal Layer   \n16                     Deep   \n...                     ...   \n2704        Epidermal Layer   \n2713        Epidermal Layer   \n2718        Epidermal Layer   \n2719        Epidermal Layer   \n2720        Epidermal Layer   \n\n                                   WoundDetail.Location  \\\n1                              Right Plantar Calcaneus;   \n5                                    Right Medial Calf;   \n8                                    Right Medial Calf;   \n14            Right Medial Calf;Right Medial Malleolus;   \n16    Right Dorsal Metatarsals;Right Plantar Metatar...   \n...                                                 ...   \n2704                                Left Lateral Ankle;   \n2713                                  Left Medial Calf;   \n2718                                         Left Shin;   \n2719                                 Left Medial Ankle;   \n2720                                 Left Medial Ankle;   \n\n      ImageDetail.AreaOfInterestX  ImageDetail.AreaOfInterestWidth  \\\n1                              36                             1021   \n5                               0                             1600   \n8                               0                             1600   \n14                            102                              805   \n16                            294                              856   \n...                           ...                              ...   \n2704                          522                              904   \n2713                         1222                              562   \n2718                         1048                              672   \n2719                          640                             1003   \n2720                          565                              980   \n\n      ImageDetail.AreaOfInterestY  ImageDetail.AreaOfInterestHeight  \n1                             498                               840  \n5                               0                              1200  \n8                               0                              1200  \n14                            342                               942  \n16                             94                              1400  \n...                           ...                               ...  \n2704                          463                               672  \n2713                          428                               655  \n2718                           88                              1190  \n2719                          919                               783  \n2720                          297                               795  \n\n[511 rows x 10 columns]",
      "text/html": "<div>\n<style scoped>\n    .dataframe tbody tr th:only-of-type {\n        vertical-align: middle;\n    }\n\n    .dataframe tbody tr th {\n        vertical-align: top;\n    }\n\n    .dataframe thead th {\n        text-align: right;\n    }\n</style>\n<table border=\"1\" class=\"dataframe\">\n  <thead>\n    <tr style=\"text-align: right;\">\n      <th></th>\n      <th>ImageDetail.ImageFilename</th>\n      <th>ImageDetail.hasRuler</th>\n      <th>ImageDetail.WoundType</th>\n      <th>ImageDetail.OtherWoundBedCategory</th>\n      <th>WoundDetail.WoundDepth</th>\n      <th>WoundDetail.Location</th>\n      <th>ImageDetail.AreaOfInterestX</th>\n      <th>ImageDetail.AreaOfInterestWidth</th>\n      <th>ImageDetail.AreaOfInterestY</th>\n      <th>ImageDetail.AreaOfInterestHeight</th>\n    </tr>\n  </thead>\n  <tbody>\n    <tr>\n      <th>1</th>\n      <td>VWI11961 2021-05-05-07-51-40.jpg</td>\n      <td>False</td>\n      <td>Neuro-Ischemic Ulcers (NIU)</td>\n      <td>Exposed Tendon/Bone</td>\n      <td>Deep</td>\n      <td>Right Plantar Calcaneus;</td>\n      <td>36</td>\n      <td>1021</td>\n      <td>498</td>\n      <td>840</td>\n    </tr>\n    <tr>\n      <th>5</th>\n      <td>VWI11949 2021-05-03-08-46-12.jpg</td>\n      <td>False</td>\n      <td>Surgical Site Infections (SSI)</td>\n      <td>NaN</td>\n      <td>Deep</td>\n      <td>Right Medial Calf;</td>\n      <td>0</td>\n      <td>1600</td>\n      <td>0</td>\n      <td>1200</td>\n    </tr>\n    <tr>\n      <th>8</th>\n      <td>VWI11946 2021-05-03-08-08-53.jpg</td>\n      <td>False</td>\n      <td>Neuro-Ischemic Ulcers (NIU)</td>\n      <td>NaN</td>\n      <td>Deep</td>\n      <td>Right Medial Calf;</td>\n      <td>0</td>\n      <td>1600</td>\n      <td>0</td>\n      <td>1200</td>\n    </tr>\n    <tr>\n      <th>14</th>\n      <td>VWI11802 2021-04-01-08-40-23.jpg</td>\n      <td>False</td>\n      <td>Venous Leg Ulcer (VLU)</td>\n      <td>NaN</td>\n      <td>Dermal Layer</td>\n      <td>Right Medial Calf;Right Medial Malleolus;</td>\n      <td>102</td>\n      <td>805</td>\n      <td>342</td>\n      <td>942</td>\n    </tr>\n    <tr>\n      <th>16</th>\n      <td>VWI11805 2021-04-01-09-39-22.jpg</td>\n      <td>False</td>\n      <td>Neuro-Ischemic Ulcers (NIU)</td>\n      <td>NaN</td>\n      <td>Deep</td>\n      <td>Right Dorsal Metatarsals;Right Plantar Metatar...</td>\n      <td>294</td>\n      <td>856</td>\n      <td>94</td>\n      <td>1400</td>\n    </tr>\n    <tr>\n      <th>...</th>\n      <td>...</td>\n      <td>...</td>\n      <td>...</td>\n      <td>...</td>\n      <td>...</td>\n      <td>...</td>\n      <td>...</td>\n      <td>...</td>\n      <td>...</td>\n      <td>...</td>\n    </tr>\n    <tr>\n      <th>2704</th>\n      <td>024 V5_13.04.20.JPG</td>\n      <td>True</td>\n      <td>Venous Leg Ulcer (VLU)</td>\n      <td>NaN</td>\n      <td>Epidermal Layer</td>\n      <td>Left Lateral Ankle;</td>\n      <td>522</td>\n      <td>904</td>\n      <td>463</td>\n      <td>672</td>\n    </tr>\n    <tr>\n      <th>2713</th>\n      <td>026 V4_03.02.2020.JPG</td>\n      <td>True</td>\n      <td>Venous Leg Ulcer (VLU)</td>\n      <td>NaN</td>\n      <td>Epidermal Layer</td>\n      <td>Left Medial Calf;</td>\n      <td>1222</td>\n      <td>562</td>\n      <td>428</td>\n      <td>655</td>\n    </tr>\n    <tr>\n      <th>2718</th>\n      <td>027 V5_06.02.2020 HEALED.JPG</td>\n      <td>True</td>\n      <td>Venous Leg Ulcer (VLU)</td>\n      <td>NaN</td>\n      <td>Epidermal Layer</td>\n      <td>Left Shin;</td>\n      <td>1048</td>\n      <td>672</td>\n      <td>88</td>\n      <td>1190</td>\n    </tr>\n    <tr>\n      <th>2719</th>\n      <td>WA028_22.07.20_V4.JPG</td>\n      <td>False</td>\n      <td>Venous Leg Ulcer (VLU)</td>\n      <td>NaN</td>\n      <td>Epidermal Layer</td>\n      <td>Left Medial Ankle;</td>\n      <td>640</td>\n      <td>1003</td>\n      <td>919</td>\n      <td>783</td>\n    </tr>\n    <tr>\n      <th>2720</th>\n      <td>WA028_29.07.20_V5.JPG</td>\n      <td>True</td>\n      <td>Venous Leg Ulcer (VLU)</td>\n      <td>NaN</td>\n      <td>Epidermal Layer</td>\n      <td>Left Medial Ankle;</td>\n      <td>565</td>\n      <td>980</td>\n      <td>297</td>\n      <td>795</td>\n    </tr>\n  </tbody>\n</table>\n<p>511 rows × 10 columns</p>\n</div>"
     },
     "execution_count": 7,
     "metadata": {},
     "output_type": "execute_result"
    }
   ],
   "source": [
    "# Check for duplicated semantics\n",
    "df_duplicated = df.duplicated(\n",
    "    subset=[\n",
    "        CONST.WOUND_RULER,\n",
    "        CONST.WOUND_TYPE,\n",
    "        CONST.WOUND_BED,\n",
    "        CONST.WOUND_DEPTH,\n",
    "        CONST.WOUND_LOCATION,\n",
    "    ],\n",
    "    keep=\"last\",\n",
    ")\n",
    "df_cleaned = df[df_duplicated == False]\n",
    "df_cleaned"
   ],
   "metadata": {
    "collapsed": false
   }
  },
  {
   "cell_type": "code",
   "execution_count": 8,
   "outputs": [],
   "source": [
    "# Save the processed annotation file\n",
    "df_cleaned.to_csv(CONST.ANNOTATION_PROCESSED_PATH, index=False)"
   ],
   "metadata": {
    "collapsed": false
   }
  },
  {
   "cell_type": "markdown",
   "source": [
    "# Sample segmentation"
   ],
   "metadata": {
    "collapsed": false
   }
  },
  {
   "cell_type": "code",
   "execution_count": 9,
   "outputs": [
    {
     "data": {
      "text/plain": "            ImageDetail.ImageFilename ImageDetail.hasRuler  \\\n0    VWI11961 2021-05-05-07-51-40.jpg                False   \n1    VWI11949 2021-05-03-08-46-12.jpg                False   \n2    VWI11946 2021-05-03-08-08-53.jpg                False   \n3    VWI11802 2021-04-01-08-40-23.jpg                False   \n4    VWI11805 2021-04-01-09-39-22.jpg                False   \n..                                ...                  ...   \n506               024 V5_13.04.20.JPG                 True   \n507             026 V4_03.02.2020.JPG                 True   \n508      027 V5_06.02.2020 HEALED.JPG                 True   \n509             WA028_22.07.20_V4.JPG                False   \n510             WA028_29.07.20_V5.JPG                 True   \n\n              ImageDetail.WoundType ImageDetail.OtherWoundBedCategory  \\\n0       Neuro-Ischemic Ulcers (NIU)               Exposed Tendon/Bone   \n1    Surgical Site Infections (SSI)                               NaN   \n2       Neuro-Ischemic Ulcers (NIU)                               NaN   \n3            Venous Leg Ulcer (VLU)                               NaN   \n4       Neuro-Ischemic Ulcers (NIU)                               NaN   \n..                              ...                               ...   \n506          Venous Leg Ulcer (VLU)                               NaN   \n507          Venous Leg Ulcer (VLU)                               NaN   \n508          Venous Leg Ulcer (VLU)                               NaN   \n509          Venous Leg Ulcer (VLU)                               NaN   \n510          Venous Leg Ulcer (VLU)                               NaN   \n\n    WoundDetail.WoundDepth                               WoundDetail.Location  \\\n0                     Deep                           Right Plantar Calcaneus;   \n1                     Deep                                 Right Medial Calf;   \n2                     Deep                                 Right Medial Calf;   \n3             Dermal Layer          Right Medial Calf;Right Medial Malleolus;   \n4                     Deep  Right Dorsal Metatarsals;Right Plantar Metatar...   \n..                     ...                                                ...   \n506        Epidermal Layer                                Left Lateral Ankle;   \n507        Epidermal Layer                                  Left Medial Calf;   \n508        Epidermal Layer                                         Left Shin;   \n509        Epidermal Layer                                 Left Medial Ankle;   \n510        Epidermal Layer                                 Left Medial Ankle;   \n\n     ImageDetail.AreaOfInterestX  ImageDetail.AreaOfInterestWidth  \\\n0                             36                             1021   \n1                              0                             1600   \n2                              0                             1600   \n3                            102                              805   \n4                            294                              856   \n..                           ...                              ...   \n506                          522                              904   \n507                         1222                              562   \n508                         1048                              672   \n509                          640                             1003   \n510                          565                              980   \n\n     ImageDetail.AreaOfInterestY  ImageDetail.AreaOfInterestHeight  \n0                            498                               840  \n1                              0                              1200  \n2                              0                              1200  \n3                            342                               942  \n4                             94                              1400  \n..                           ...                               ...  \n506                          463                               672  \n507                          428                               655  \n508                           88                              1190  \n509                          919                               783  \n510                          297                               795  \n\n[511 rows x 10 columns]",
      "text/html": "<div>\n<style scoped>\n    .dataframe tbody tr th:only-of-type {\n        vertical-align: middle;\n    }\n\n    .dataframe tbody tr th {\n        vertical-align: top;\n    }\n\n    .dataframe thead th {\n        text-align: right;\n    }\n</style>\n<table border=\"1\" class=\"dataframe\">\n  <thead>\n    <tr style=\"text-align: right;\">\n      <th></th>\n      <th>ImageDetail.ImageFilename</th>\n      <th>ImageDetail.hasRuler</th>\n      <th>ImageDetail.WoundType</th>\n      <th>ImageDetail.OtherWoundBedCategory</th>\n      <th>WoundDetail.WoundDepth</th>\n      <th>WoundDetail.Location</th>\n      <th>ImageDetail.AreaOfInterestX</th>\n      <th>ImageDetail.AreaOfInterestWidth</th>\n      <th>ImageDetail.AreaOfInterestY</th>\n      <th>ImageDetail.AreaOfInterestHeight</th>\n    </tr>\n  </thead>\n  <tbody>\n    <tr>\n      <th>0</th>\n      <td>VWI11961 2021-05-05-07-51-40.jpg</td>\n      <td>False</td>\n      <td>Neuro-Ischemic Ulcers (NIU)</td>\n      <td>Exposed Tendon/Bone</td>\n      <td>Deep</td>\n      <td>Right Plantar Calcaneus;</td>\n      <td>36</td>\n      <td>1021</td>\n      <td>498</td>\n      <td>840</td>\n    </tr>\n    <tr>\n      <th>1</th>\n      <td>VWI11949 2021-05-03-08-46-12.jpg</td>\n      <td>False</td>\n      <td>Surgical Site Infections (SSI)</td>\n      <td>NaN</td>\n      <td>Deep</td>\n      <td>Right Medial Calf;</td>\n      <td>0</td>\n      <td>1600</td>\n      <td>0</td>\n      <td>1200</td>\n    </tr>\n    <tr>\n      <th>2</th>\n      <td>VWI11946 2021-05-03-08-08-53.jpg</td>\n      <td>False</td>\n      <td>Neuro-Ischemic Ulcers (NIU)</td>\n      <td>NaN</td>\n      <td>Deep</td>\n      <td>Right Medial Calf;</td>\n      <td>0</td>\n      <td>1600</td>\n      <td>0</td>\n      <td>1200</td>\n    </tr>\n    <tr>\n      <th>3</th>\n      <td>VWI11802 2021-04-01-08-40-23.jpg</td>\n      <td>False</td>\n      <td>Venous Leg Ulcer (VLU)</td>\n      <td>NaN</td>\n      <td>Dermal Layer</td>\n      <td>Right Medial Calf;Right Medial Malleolus;</td>\n      <td>102</td>\n      <td>805</td>\n      <td>342</td>\n      <td>942</td>\n    </tr>\n    <tr>\n      <th>4</th>\n      <td>VWI11805 2021-04-01-09-39-22.jpg</td>\n      <td>False</td>\n      <td>Neuro-Ischemic Ulcers (NIU)</td>\n      <td>NaN</td>\n      <td>Deep</td>\n      <td>Right Dorsal Metatarsals;Right Plantar Metatar...</td>\n      <td>294</td>\n      <td>856</td>\n      <td>94</td>\n      <td>1400</td>\n    </tr>\n    <tr>\n      <th>...</th>\n      <td>...</td>\n      <td>...</td>\n      <td>...</td>\n      <td>...</td>\n      <td>...</td>\n      <td>...</td>\n      <td>...</td>\n      <td>...</td>\n      <td>...</td>\n      <td>...</td>\n    </tr>\n    <tr>\n      <th>506</th>\n      <td>024 V5_13.04.20.JPG</td>\n      <td>True</td>\n      <td>Venous Leg Ulcer (VLU)</td>\n      <td>NaN</td>\n      <td>Epidermal Layer</td>\n      <td>Left Lateral Ankle;</td>\n      <td>522</td>\n      <td>904</td>\n      <td>463</td>\n      <td>672</td>\n    </tr>\n    <tr>\n      <th>507</th>\n      <td>026 V4_03.02.2020.JPG</td>\n      <td>True</td>\n      <td>Venous Leg Ulcer (VLU)</td>\n      <td>NaN</td>\n      <td>Epidermal Layer</td>\n      <td>Left Medial Calf;</td>\n      <td>1222</td>\n      <td>562</td>\n      <td>428</td>\n      <td>655</td>\n    </tr>\n    <tr>\n      <th>508</th>\n      <td>027 V5_06.02.2020 HEALED.JPG</td>\n      <td>True</td>\n      <td>Venous Leg Ulcer (VLU)</td>\n      <td>NaN</td>\n      <td>Epidermal Layer</td>\n      <td>Left Shin;</td>\n      <td>1048</td>\n      <td>672</td>\n      <td>88</td>\n      <td>1190</td>\n    </tr>\n    <tr>\n      <th>509</th>\n      <td>WA028_22.07.20_V4.JPG</td>\n      <td>False</td>\n      <td>Venous Leg Ulcer (VLU)</td>\n      <td>NaN</td>\n      <td>Epidermal Layer</td>\n      <td>Left Medial Ankle;</td>\n      <td>640</td>\n      <td>1003</td>\n      <td>919</td>\n      <td>783</td>\n    </tr>\n    <tr>\n      <th>510</th>\n      <td>WA028_29.07.20_V5.JPG</td>\n      <td>True</td>\n      <td>Venous Leg Ulcer (VLU)</td>\n      <td>NaN</td>\n      <td>Epidermal Layer</td>\n      <td>Left Medial Ankle;</td>\n      <td>565</td>\n      <td>980</td>\n      <td>297</td>\n      <td>795</td>\n    </tr>\n  </tbody>\n</table>\n<p>511 rows × 10 columns</p>\n</div>"
     },
     "execution_count": 9,
     "metadata": {},
     "output_type": "execute_result"
    }
   ],
   "source": [
    "# Read the processed annotation\n",
    "annotation = pd.read_csv(CONST.ANNOTATION_PROCESSED_PATH)\n",
    "annotation"
   ],
   "metadata": {
    "collapsed": false
   }
  },
  {
   "cell_type": "code",
   "execution_count": 10,
   "outputs": [],
   "source": [
    "# Initialise the model\n",
    "model = load_onnx(CONST.SEG_MODEl_PATH)\n",
    "session = init_session_onnx(model)"
   ],
   "metadata": {
    "collapsed": false
   }
  },
  {
   "cell_type": "code",
   "execution_count": 11,
   "outputs": [
    {
     "name": "stdout",
     "output_type": "stream",
     "text": [
      "Done segmentation!\n"
     ]
    }
   ],
   "source": [
    "# For each record, load file\n",
    "for _, row in annotation.iterrows():\n",
    "    # Get file path\n",
    "    file_path = find_path(\n",
    "        filename=row[CONST.FILE_NAME], root_dir=CONST.UNPROCESSED_IMAGES_DIR\n",
    "    )\n",
    "\n",
    "    # Skip the missing file\n",
    "    if file_path is None:\n",
    "        continue\n",
    "\n",
    "    # Crop the ROI\n",
    "    if row[CONST.ROI_Y_HEIGHT] != 0 and row[CONST.ROI_X_WIDTH] != 0:\n",
    "        image = load_image(file_path)[\n",
    "            row[CONST.ROI_Y] : (row[CONST.ROI_Y] + row[CONST.ROI_Y_HEIGHT]),\n",
    "            row[CONST.ROI_X] : (row[CONST.ROI_X] + row[CONST.ROI_X_WIDTH]),\n",
    "        ]\n",
    "    else:\n",
    "        image = load_image(file_path)\n",
    "\n",
    "    # Prepare for tensor\n",
    "    model_input = np.expand_dims(\n",
    "        forward_transform(\n",
    "            image=image, target_size=CONST.SEG_INPUT_SIZE, to_tensor=False\n",
    "        ),\n",
    "        axis=0,\n",
    "    ).transpose((0, 3, 1, 2))\n",
    "\n",
    "    # Get segments\n",
    "    segment = get_segmentation(_sample=model_input, _session=session)\n",
    "    segment = resize_segmentation(\n",
    "        _segmentation_matrix=segment, _size=image.shape[:-1][::-1]\n",
    "    )\n",
    "\n",
    "    # Save images and segments\n",
    "    Image.fromarray(image).save(\n",
    "        os.path.join(CONST.PROCESSED_IMAGES_DIR, row[CONST.FILE_NAME])\n",
    "    )\n",
    "    np.save(\n",
    "        os.path.join(\n",
    "            CONST.PROCESSED_SEGMENT_DIR,\n",
    "            remove_image_extension(row[CONST.FILE_NAME]),\n",
    "        )\n",
    "        + \".npy\",\n",
    "        arr=segment,\n",
    "    )\n",
    "\n",
    "print(\"Done segmentation!\")"
   ],
   "metadata": {
    "collapsed": false
   }
  }
 ],
 "metadata": {
  "kernelspec": {
   "display_name": "Python 3",
   "language": "python",
   "name": "python3"
  },
  "language_info": {
   "codemirror_mode": {
    "name": "ipython",
    "version": 2
   },
   "file_extension": ".py",
   "mimetype": "text/x-python",
   "name": "python",
   "nbconvert_exporter": "python",
   "pygments_lexer": "ipython2",
   "version": "2.7.6"
  }
 },
 "nbformat": 4,
 "nbformat_minor": 0
}
